{
 "cells": [
  {
   "cell_type": "markdown",
   "metadata": {
    "pycharm": {
     "name": "#%% md\n"
    }
   },
   "source": [
    "# Python Technologist Application Test"
   ]
  },
  {
   "cell_type": "markdown",
   "metadata": {
    "pycharm": {
     "name": "#%% md\n"
    }
   },
   "source": [
    "## Problem 1\n"
   ]
  },
  {
   "cell_type": "markdown",
   "metadata": {
    "pycharm": {
     "name": "#%% md\n"
    }
   },
   "source": [
    "[This is](https://ar.wikipedia.org/wiki/%D9%82%D8%A7%D8%A6%D9%85%D8%A9_%D8%A3%D9%81%D8%B6%D9%84_%D9%85%D8%A6%D8%A9_%D8%B1%D9%88%D8%A7%D9%8A%D8%A9_%D8%B9%D8%B1%D8%A8%D9%8A%D8%A9) a Wikipedia webpage listing the 100 best Arabic novels according to the Arab Writers Union. In case it did not open for any reason try [this](https://www.marefa.org/%D9%82%D8%A7%D8%A6%D9%85%D8%A9_%D8%A3%D9%81%D8%B6%D9%84_%D8%A7%D9%84%D9%83%D8%AA%D8%A8_%D8%A7%D9%84%D8%B9%D8%B1%D8%A8%D9%8A%D8%A9) alternative link for the same info \n",
    "\n",
    "Using Python, do the following:\n",
    "\n",
    "1. Scrap the webapge to get the books table and write it to excel file, Keeping all the content from the HTML table including Hyper-links if any.\n",
    "2. Write the content to a Google sheet \n",
    "\n"
   ]
  },
  {
   "cell_type": "markdown",
   "metadata": {
    "pycharm": {
     "name": "#%% md\n"
    }
   },
   "source": [
    "Write your code in the following cell. You are free to add cells as much as you need."
   ]
  },
  {
   "cell_type": "code",
   "execution_count": null,
   "metadata": {
    "pycharm": {
     "name": "#%%\n"
    }
   },
   "outputs": [],
   "source": [
    "# the script located on root dire standalone/excel_script.py\n",
    "# for testing run it from its location or from the views on deployed project\n",
    "# for more details https://scrapingwiki.herokuapp.com/\n",
    "\n",
    "\n",
    "import requests\n",
    "import pandas as pd\n",
    "from bs4 import BeautifulSoup as bs\n",
    "\n",
    "domain = 'https://ar.wikipedia.org'\n",
    "\n",
    "url = \"https://ar.wikipedia.org/wiki/%D9%82%D8%A7%D8%A6%D9%85%D8%A9_%D8%A3%D9%81%D8%B6%D9%84_%D9%85%D8%A6%D8%A9_%D8%B1%D9%88%D8%A7%D9%8A%D8%A9_%D8%B9%D8%B1%D8%A8%D9%8A%D8%A9\"\n",
    "\n",
    "response = requests.get(url)\n",
    "\n",
    "\n",
    "soup = bs(response.content, features='html.parser')\n",
    "\n",
    "table = soup.select('table.wikitable')[0]\n",
    "\n",
    "columns = [i.get_text(strip=True) for i in table.find_all(\"th\")]\n",
    "\n",
    "columns += [\"رابط الكتاب\", \"رابط المؤلف\", \"رابط البلد\"]\n",
    "\n",
    "data = []\n",
    "\n",
    "for tr in table.find(\"tbody\").find_all(\"tr\"):\n",
    "    cells = []\n",
    "    tds = tr.find_all('td')\n",
    "    link=[]\n",
    "\n",
    "    for td in tds:\n",
    "        cells.append(td.get_text(strip=True))\n",
    "        if td.find('a'):\n",
    "            link.append(domain + td.find('a')['href'])\n",
    "    data.append(cells + link)\n",
    "\n",
    "\n",
    "df = pd.DataFrame(data, columns=columns)\n",
    "\n",
    "df.to_excel(\"data.xlsx\", index=False)\n",
    "\n",
    "\n",
    "dict_data = pd.read_excel(\"data.xlsx\")\n",
    "rec = dict_data.to_dict(\"index\")\n",
    "\n",
    "import json\n",
    "\n",
    "final = json.dumps(rec, ensure_ascii=False).encode('utf8')\n",
    "print(final)\n",
    "# with open(r'test.txt', 'w') as fp:\n",
    "#     fp.write(str(rec))"
   ]
  },
  {
   "cell_type": "markdown",
   "metadata": {
    "pycharm": {
     "name": "#%% md\n"
    }
   },
   "source": [
    "## Problem 2 \n",
    "\n",
    "Create REST APIs in Python using Flask to read (Get) and write (Post, Delete, Put) the local excel file from the previous problem. Please make sure to bundle all the API dependencies to be uasble. Deploying the API to Heroku would be a big plus."
   ]
  },
  {
   "cell_type": "markdown",
   "metadata": {
    "pycharm": {
     "name": "#%% md\n"
    }
   },
   "source": [
    "Write your code in the following cell. You are free to add cells as much as you need."
   ]
  },
  {
   "cell_type": "code",
   "execution_count": null,
   "metadata": {
    "pycharm": {
     "name": "#%%\n"
    }
   },
   "outputs": [],
   "source": [
    "# this is deployed django & DRF on heroku links\n",
    "# all Details about it on Report Page p2\n",
    "# https://scrapingwiki.herokuapp.com/"
   ]
  },
  {
   "cell_type": "markdown",
   "metadata": {
    "pycharm": {
     "name": "#%% md\n"
    }
   },
   "source": [
    "## Problem 3\n",
    "\n",
    "Write a tool to create a PDF cover for the books, following the attached example \"book-cover-sample.pdf\". Considering the following:\n",
    "\n",
    "    1. The QR code should embed the book hyperlink from Wikipedia.\n",
    "    2. The QR code should be clickable to let the users acess it by clicking on it.\n",
    "    3. Include all the covers in one directory and compress it in ZIP format.\n",
    "    "
   ]
  },
  {
   "cell_type": "markdown",
   "metadata": {
    "pycharm": {
     "name": "#%% md\n"
    }
   },
   "source": [
    "Write your code in the following cell. You are free to add cells as much as you need."
   ]
  },
  {
   "cell_type": "code",
   "execution_count": null,
   "metadata": {
    "pycharm": {
     "name": "#%%\n"
    }
   },
   "outputs": [],
   "source": [
    "# script located at root dir /stand_alone_scripts/pdf_cover_generator_tool\n",
    "# for testing run it from its location or from the views on deployed project\n",
    "# for more details https://scrapingwiki.herokuapp.com/\n",
    "\n",
    "from django.conf import settings\n",
    "\n",
    "import reportlab\n",
    "from reportlab.lib.styles import getSampleStyleSheet, ParagraphStyle\n",
    "from reportlab.lib import utils\n",
    "from reportlab.lib.enums import TA_CENTER\n",
    "from reportlab.pdfgen.canvas import Canvas\n",
    "from reportlab.platypus import (Paragraph, Frame, Image,)\n",
    "from reportlab.pdfbase import pdfmetrics\n",
    "from reportlab.pdfbase.ttfonts import TTFont\n",
    "\n",
    "from bidi.algorithm import get_display\n",
    "import pandas as pd\n",
    "import qrcode\n",
    "import arabic_reshaper\n",
    "import os\n",
    "import re\n",
    "\n",
    "base_dir = os.path.dirname(__file__)\n",
    "excel_file_path = os.path.join(os.path.dirname(__file__), \"data.xlsx\")\n",
    "\n",
    "\n",
    "def image_creator(book_name, book_link):\n",
    "\n",
    "    qr = qrcode.QRCode(\n",
    "        version=1,\n",
    "        box_size=10,\n",
    "        border=5\n",
    "    )\n",
    "\n",
    "    qr.add_data(book_link)\n",
    "\n",
    "    qr.make(fit=True)\n",
    "    img = qr.make_image(fill_color='blue', back_color='white')\n",
    "    img.save('{}/qr_images/'.format(base_dir) + str(book_name) + '.png')######\n",
    "    return img\n",
    "\n",
    "\n",
    "reportlab.rl_config.TTFSearchPath.append('{}/fonts/'.format(base_dir))\n",
    "pdfmetrics.registerFont(TTFont(\n",
    "    'KFGQPC Uthman Taha Naskh Regular',\n",
    "    '{}/fonts/Traditional_Arabic.ttf'.format(base_dir)))\n",
    "\n",
    "\n",
    "def get_image(path, width=1):\n",
    "    img = utils.ImageReader(path)\n",
    "    iw, ih = img.getSize()\n",
    "    aspect = ih / float(iw)\n",
    "    return Image(path, width=width, height=(width * aspect))\n",
    "\n",
    "\n",
    "def create_pdf(author_name, book_name, book_link):\n",
    "    # *\n",
    "    pdf = Canvas(\"{}/books_covers/{}.pdf\".format(base_dir, book_name))\n",
    "    image_frame = Frame(100, 300, 400, 400, showBoundary=0, leftPadding=1, rightPadding=1, bottomPadding=1,\n",
    "                        topPadding=1)\n",
    "\n",
    "    text_frame = Frame(150, 150, 300, 150, showBoundary=0, leftPadding=1, rightPadding=1, bottomPadding=1, topPadding=1)\n",
    "\n",
    "    # *\n",
    "    directory = '{}/qr_images/'.format(base_dir)\n",
    "\n",
    "    # * save image to directory\n",
    "    image_creator(book_name=book_name, book_link=book_link)\n",
    "\n",
    "    code = []\n",
    "    code.append(get_image(directory + book_name + '.png', width=150))\n",
    "\n",
    "    # * add image to the frame\n",
    "    image_frame.addFromList(code, pdf)\n",
    "\n",
    "    # * Drawing the image\n",
    "    pdf.drawInlineImage(directory + book_name + '.png', 100, 300, 400, 400)\n",
    "\n",
    "    # * add link to the frame (rectangle)\n",
    "    pdf.linkURL(book_link, rect=(145, 335, 455, 655), relative=5)\n",
    "\n",
    "    text_list = []\n",
    "    styles = getSampleStyleSheet()\n",
    "    style = styles['Title']\n",
    "\n",
    "    text_1 = arabic_reshaper.reshape(u\"{}\".format(book_name))\n",
    "    text_1 = get_display(text_1)\n",
    "    text_2 = arabic_reshaper.reshape(u\"{}\".format(author_name))\n",
    "    text_2 = get_display(text_2)\n",
    "    text = re.sub(r'\\n', '<br/>', (text_1 + '\\n\\n' + text_2))\n",
    "\n",
    "    text_list.append(Paragraph(text, ParagraphStyle(\n",
    "        name='', fontName='KFGQPC Uthman Taha Naskh Regular', fontSize=38,\n",
    "        textColor='black', alignment=TA_CENTER), encoding='utf8'))\n",
    "\n",
    "    # * add text to the new frame\n",
    "    text_frame.addFromList(text_list, pdf)\n",
    "\n",
    "    pdf.save()\n",
    "\n",
    "    return pdf\n",
    "\n",
    "\n",
    "def generate_books_cover(excel_path):\n",
    "    data = pd.read_excel(excel_path).dropna()\n",
    "\n",
    "    records = data.to_dict(\"index\")\n",
    "    keys = [key for key in records][1:]\n",
    "    for key in keys:\n",
    "        author_name = records[key]['المؤلف']\n",
    "        book_name = records[key]['الرواية']\n",
    "        book_link = records[key]['رابط الكتاب']\n",
    "        create_pdf(author_name, book_name, book_link)\n",
    "\n",
    "\n",
    "generate_books_cover(excel_file_path)"
   ]
  }
 ],
 "metadata": {
  "kernelspec": {
   "display_name": "Python 3",
   "language": "python",
   "name": "python3"
  },
  "language_info": {
   "codemirror_mode": {
    "name": "ipython",
    "version": 3
   },
   "file_extension": ".py",
   "mimetype": "text/x-python",
   "name": "python",
   "nbconvert_exporter": "python",
   "pygments_lexer": "ipython3",
   "version": "3.9.0"
  }
 },
 "nbformat": 4,
 "nbformat_minor": 4
}